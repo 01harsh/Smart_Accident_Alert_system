{
 "cells": [
  {
   "cell_type": "code",
   "execution_count": 1,
   "metadata": {},
   "outputs": [],
   "source": [
    "import os\n",
    "import pandas as pd   \n",
    "import pickle   \n",
    "import json\n"
   ]
  },
  {
   "cell_type": "code",
   "execution_count": 2,
   "metadata": {},
   "outputs": [],
   "source": [
    "def getJSON(csvFile, index=0):\n",
    "    df = pd.read_csv(csvFile)\n",
    "    print(df.iloc[index].to_json())"
   ]
  },
  {
   "cell_type": "code",
   "execution_count": 3,
   "metadata": {},
   "outputs": [],
   "source": [
    "def getDF(d1):        \n",
    "    d2 = {}\n",
    "    for k in d1:\n",
    "        v = []\n",
    "        v.append(d1[k])\n",
    "        d2[k]= v\n",
    "    return pd.DataFrame(d2)"
   ]
  },
  {
   "cell_type": "code",
   "execution_count": 7,
   "metadata": {},
   "outputs": [],
   "source": [
    "def traning():\n",
    "    df = pd.read_csv(\"Sensors.csv\")\n",
    "    X= df.drop(\"condition\",axis=1)\n",
    "#     dummy_row(X)\n",
    "    Y = df[\"condition\"]\n",
    "    from sklearn.model_selection import train_test_split\n",
    "    x_train, x_test, y_train, y_test = train_test_split(X,Y, train_size=0.8, random_state=11) \n",
    "    from sklearn.linear_model import LogisticRegression\n",
    "    from sklearn.ensemble import RandomForestClassifier\n",
    "    model = RandomForestClassifier(n_estimators=74,random_state=10)\n",
    "    model.fit(x_train,y_train ) \n",
    "    pkl_filename = \"mymodel.pkl\"\n",
    "    with open(pkl_filename, \"wb\") as f1:\n",
    "        pickle.dump(model, f1)   "
   ]
  },
  {
   "cell_type": "code",
   "execution_count": 8,
   "metadata": {},
   "outputs": [],
   "source": [
    "traning()"
   ]
  },
  {
   "cell_type": "code",
   "execution_count": 9,
   "metadata": {},
   "outputs": [],
   "source": [
    "def pred(ob):\n",
    "    from pandas.io.json import json_normalize\n",
    "    df = pd.DataFrame(ob,index=[0])\n",
    "    pkl_filename = \"./mymodel.pkl\"\n",
    "    pkl_filename = os.path.join(os.path.abspath(os.path.dirname(__file__)),pkl_filename)\n",
    "    with open(pkl_filename, \"rb\") as f1:\n",
    "        model = pickle.load(f1)    \n",
    "    if \"condition\" in df:\n",
    "        df.drop(\"condition\", inplace=True, axis=1)\n",
    "    y = model.predict(df)\n",
    "#     print(y)\n",
    "    return y"
   ]
  },
  {
   "cell_type": "code",
   "execution_count": 10,
   "metadata": {},
   "outputs": [
    {
     "name": "stdout",
     "output_type": "stream",
     "text": [
      "{\"Accelerometer\":897,\"DPS\":470,\"Gyroscope\":90,\"BPS\":100,\"condition\":2}\n"
     ]
    }
   ],
   "source": [
    "getJSON(\"Sensors.csv\",22)"
   ]
  },
  {
   "cell_type": "code",
   "execution_count": 12,
   "metadata": {},
   "outputs": [],
   "source": [
    "# pred('{\"Accelerometer\":897,\"DPS\":470,\"Gyroscope\":90,\"BPS\":100,\"condition\":2}')"
   ]
  }
 ],
 "metadata": {
  "kernelspec": {
   "display_name": "Python 3",
   "language": "python",
   "name": "python3"
  },
  "language_info": {
   "codemirror_mode": {
    "name": "ipython",
    "version": 3
   },
   "file_extension": ".py",
   "mimetype": "text/x-python",
   "name": "python",
   "nbconvert_exporter": "python",
   "pygments_lexer": "ipython3",
   "version": "3.7.6"
  }
 },
 "nbformat": 4,
 "nbformat_minor": 2
}
